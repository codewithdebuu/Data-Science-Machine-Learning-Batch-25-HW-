{
 "cells": [
  {
   "cell_type": "markdown",
   "id": "13628811-f5d0-4782-b160-f6753c6cb02e",
   "metadata": {},
   "source": [
    "# Functions"
   ]
  },
  {
   "cell_type": "code",
   "execution_count": 3,
   "id": "66a767c9-57f1-4530-87bc-6da6ba57b788",
   "metadata": {},
   "outputs": [
    {
     "name": "stdout",
     "output_type": "stream",
     "text": [
      "Hello World!\n"
     ]
    }
   ],
   "source": [
    "def hello():\n",
    "    print(\"Hello World!\")\n",
    "\n",
    "hello()"
   ]
  },
  {
   "cell_type": "code",
   "execution_count": 10,
   "id": "1c4dc8c6-1a57-4f08-b3f3-356142f94672",
   "metadata": {},
   "outputs": [
    {
     "name": "stdout",
     "output_type": "stream",
     "text": [
      "Your Full name is: Debashis Roy.\n"
     ]
    }
   ],
   "source": [
    "def full_name(fname, lname):\n",
    "    print(f\"Your Full name is: {fname} {lname}.\")\n",
    "\n",
    "full_name(\"Debashis\", \"Roy\")"
   ]
  },
  {
   "cell_type": "markdown",
   "id": "7c3e8151-0480-4884-a405-5bc9db82c022",
   "metadata": {},
   "source": [
    "## Default Parameter Value"
   ]
  },
  {
   "cell_type": "code",
   "execution_count": 14,
   "id": "35aabdae-9087-4ea2-b007-8a609bb7e6cc",
   "metadata": {},
   "outputs": [
    {
     "name": "stdout",
     "output_type": "stream",
     "text": [
      "I'm from Bangladesh.\n",
      "I'm from Japan.\n"
     ]
    }
   ],
   "source": [
    "def country(name=\"Bangladesh\"):  # Default argument is Bangladesh.\n",
    "    print(f\"I'm from {name}.\")\n",
    "\n",
    "country()\n",
    "country(\"Japan\")"
   ]
  },
  {
   "cell_type": "markdown",
   "id": "17f6e688-78a3-499f-894c-496288f5d85e",
   "metadata": {},
   "source": [
    "## Return Statement"
   ]
  },
  {
   "cell_type": "code",
   "execution_count": 17,
   "id": "718e6389-e9f2-4535-a745-b3484acc9a68",
   "metadata": {},
   "outputs": [
    {
     "data": {
      "text/plain": [
       "50"
      ]
     },
     "execution_count": 17,
     "metadata": {},
     "output_type": "execute_result"
    }
   ],
   "source": [
    "def multiplication(x,y): \n",
    "    return ( x * y )\n",
    "\n",
    "multiplication(5,10)"
   ]
  },
  {
   "cell_type": "markdown",
   "id": "39b4eccd-a65c-4e02-b15e-5a9eb0936b51",
   "metadata": {},
   "source": [
    "## Docstring"
   ]
  },
  {
   "cell_type": "code",
   "execution_count": 44,
   "id": "ac190811-26cb-4b24-af51-ccfd52400695",
   "metadata": {},
   "outputs": [
    {
     "name": "stdout",
     "output_type": "stream",
     "text": [
      " \n",
      "    This function will perform multiplication of two parameter.\n",
      "    Great!\n",
      "    \n"
     ]
    }
   ],
   "source": [
    "def multiply(x,y): \n",
    "    \"\"\" \n",
    "    This function will perform multiplication of two parameter.\n",
    "    Great!\n",
    "    \"\"\"\n",
    "    return ( x * y )\n",
    "\n",
    "print(multiply.__doc__) # This will print those comments .\n",
    "\n"
   ]
  },
  {
   "cell_type": "code",
   "execution_count": 65,
   "id": "ec97f9fa-8c42-4838-bd8a-8a6e56e80e13",
   "metadata": {},
   "outputs": [
    {
     "data": {
      "text/plain": [
       "125"
      ]
     },
     "execution_count": 65,
     "metadata": {},
     "output_type": "execute_result"
    }
   ],
   "source": [
    "def cube(y):\n",
    "    return y*y*y\n",
    "\n",
    "cube(5)"
   ]
  },
  {
   "cell_type": "markdown",
   "id": "4d545255-63ff-4395-8052-f08e818d4d4c",
   "metadata": {},
   "source": [
    "## Lamda Function"
   ]
  },
  {
   "cell_type": "code",
   "execution_count": 69,
   "id": "ff0d518f-60ab-49d8-acc4-f6aa76de09d1",
   "metadata": {},
   "outputs": [
    {
     "name": "stdout",
     "output_type": "stream",
     "text": [
      "125\n"
     ]
    }
   ],
   "source": [
    "lambda_cube = lambda y : y*y*y\n",
    "\n",
    "print(lambda_cube(5))\n"
   ]
  },
  {
   "cell_type": "code",
   "execution_count": 71,
   "id": "0e7c4eda-830f-44be-8e72-0d7ea72e306c",
   "metadata": {},
   "outputs": [
    {
     "name": "stdout",
     "output_type": "stream",
     "text": [
      "Sum = 15\n"
     ]
    }
   ],
   "source": [
    "x = lambda a:a+10\n",
    "print(\"Sum =\",x(5))"
   ]
  },
  {
   "cell_type": "code",
   "execution_count": 73,
   "id": "4a0ea3b1-c7d4-492b-9833-ddbb3330603f",
   "metadata": {},
   "outputs": [
    {
     "name": "stdout",
     "output_type": "stream",
     "text": [
      "Sum = 6\n"
     ]
    }
   ],
   "source": [
    "x = lambda a,b,c:a+b+c\n",
    "print(\"Sum =\", x(1,2,3))"
   ]
  },
  {
   "cell_type": "markdown",
   "id": "f4e3d66e-1662-4c6b-bb08-f627c8e50451",
   "metadata": {},
   "source": [
    "### key = lambda"
   ]
  },
  {
   "cell_type": "code",
   "execution_count": 52,
   "id": "7020e3a1-4612-4c18-9dc0-aa6b7b76e345",
   "metadata": {},
   "outputs": [
    {
     "name": "stdout",
     "output_type": "stream",
     "text": [
      "[['Akriti', 41], ['Berry', 37.21], ['Harry', 37.21], ['Harsh', 39], ['Tina', 37.2]]\n"
     ]
    }
   ],
   "source": [
    "data = [['Harry', 37.21], ['Berry', 37.21], ['Tina', 37.2], ['Akriti', 41], ['Harsh', 39]]\n",
    "\n",
    "# Sort by the frist element in each sublist\n",
    "sorted_data = sorted(data, key=lambda x: x[0])\n",
    "print(sorted_data)"
   ]
  },
  {
   "cell_type": "code",
   "execution_count": 48,
   "id": "158cfeef-4906-4023-a5ef-0f8e07f461ac",
   "metadata": {},
   "outputs": [
    {
     "name": "stdout",
     "output_type": "stream",
     "text": [
      "[['Tina', 37.2], ['Harry', 37.21], ['Berry', 37.21], ['Harsh', 39], ['Akriti', 41]]\n"
     ]
    }
   ],
   "source": [
    "data = [['Harry', 37.21], ['Berry', 37.21], ['Tina', 37.2], ['Akriti', 41], ['Harsh', 39]]\n",
    "\n",
    "# Sort by the second element in each sublist\n",
    "sorted_data = sorted(data, key=lambda x: x[1])\n",
    "print(sorted_data)"
   ]
  },
  {
   "cell_type": "code",
   "execution_count": null,
   "id": "52cbd172-fff9-466d-9acd-00c0ea01bcce",
   "metadata": {},
   "outputs": [],
   "source": []
  },
  {
   "cell_type": "markdown",
   "id": "dcd209f3-f0c4-4c74-b01e-527f4dce3972",
   "metadata": {},
   "source": [
    "## Recursion Function"
   ]
  },
  {
   "cell_type": "code",
   "execution_count": 96,
   "id": "464e7b50-3763-43aa-a2c4-d833e6b1aebf",
   "metadata": {},
   "outputs": [
    {
     "name": "stdin",
     "output_type": "stream",
     "text": [
      "Enter a number: 5\n"
     ]
    },
    {
     "name": "stdout",
     "output_type": "stream",
     "text": [
      "The Factorial of 5 is 120\n"
     ]
    }
   ],
   "source": [
    "def fact(n):\n",
    "    if (n ==1):\n",
    "        return 1\n",
    "    else:\n",
    "       return (fact(n-1) * n )\n",
    "\n",
    "n = int(input(\"Enter a number:\"))\n",
    "print(f\"The Factorial of {n} is {fact(n)}\")"
   ]
  },
  {
   "cell_type": "markdown",
   "id": "3d47acce-1e22-4ae5-85ba-ec199e12bf40",
   "metadata": {},
   "source": [
    "## Map Function"
   ]
  },
  {
   "cell_type": "code",
   "execution_count": 18,
   "id": "07ffcbc2-c397-48ad-a0a9-b8ec16f1acd4",
   "metadata": {},
   "outputs": [
    {
     "name": "stdout",
     "output_type": "stream",
     "text": [
      "<class 'list'>\n",
      "[1, 4, 9, 16, 25]\n"
     ]
    }
   ],
   "source": [
    "def square(x):\n",
    "    return x * x\n",
    "\n",
    "num = [1,2,3,4,5]\n",
    "print(type(num))\n",
    "result = list(map(square, num))\n",
    "print(result)"
   ]
  },
  {
   "cell_type": "code",
   "execution_count": 32,
   "id": "f455e28c-7020-4102-9fb9-c36720be3ba4",
   "metadata": {},
   "outputs": [
    {
     "name": "stdout",
     "output_type": "stream",
     "text": [
      "[1, 4, 9, 16, 25]\n"
     ]
    }
   ],
   "source": [
    "def square():\n",
    "    num = [1,2,3,4,5]\n",
    "    result = map(lambda x: x**2, num)\n",
    "\n",
    "print(result)"
   ]
  },
  {
   "cell_type": "code",
   "execution_count": 34,
   "id": "79f19dae-8b02-462b-aea3-400bec82c6f9",
   "metadata": {},
   "outputs": [
    {
     "name": "stdout",
     "output_type": "stream",
     "text": [
      "[5, 6, 6]\n"
     ]
    }
   ],
   "source": [
    "def my_func(a): \n",
    "    return len(a)\n",
    "\n",
    "x = (\"apple\",\"banana\",\"cherry\")\n",
    "y = map(my_func, x)\n",
    "print(list(y))"
   ]
  },
  {
   "cell_type": "markdown",
   "id": "2a4761b9-7b1c-4741-b2a2-ee6c6dad277b",
   "metadata": {},
   "source": [
    "## Filter Function"
   ]
  },
  {
   "cell_type": "code",
   "execution_count": 38,
   "id": "af382861-3c72-4577-b703-a3a3e038ba8d",
   "metadata": {},
   "outputs": [
    {
     "name": "stdout",
     "output_type": "stream",
     "text": [
      "[30, 21, 25]\n"
     ]
    }
   ],
   "source": [
    "ages = [10,15,30,21,25]\n",
    "\n",
    "def my_func(x):\n",
    "    if x < 18:\n",
    "        return False\n",
    "    else:\n",
    "        return True\n",
    "\n",
    "adults = list(filter(my_func, ages))\n",
    "\n",
    "print(adults)"
   ]
  },
  {
   "cell_type": "code",
   "execution_count": 40,
   "id": "c5c4e846-cd58-49da-90e0-48daa001435e",
   "metadata": {},
   "outputs": [
    {
     "name": "stdout",
     "output_type": "stream",
     "text": [
      "Ever Number set: [10, 30]\n"
     ]
    }
   ],
   "source": [
    "num = [10,15,30,21,25]\n",
    "\n",
    "result = list(filter(lambda x: x%2 == 0, num))\n",
    "print(\"Ever Number set:\", result)"
   ]
  },
  {
   "cell_type": "markdown",
   "id": "e51645fd-d9f3-4a3d-9675-0b8057e15fcb",
   "metadata": {},
   "source": [
    "## Zip Function"
   ]
  },
  {
   "cell_type": "code",
   "execution_count": 53,
   "id": "01210707-058b-4fa1-8f63-6c1776cda8df",
   "metadata": {},
   "outputs": [
    {
     "name": "stdout",
     "output_type": "stream",
     "text": [
      "[(10, 'Debu'), (15, 'Jenny'), (30, 'Monika'), (21, 'Alan'), (25, 'Jhon')]\n"
     ]
    }
   ],
   "source": [
    "roll = [10,15,30,21,25]\n",
    "\n",
    "name = [\"Debu\", \"Jenny\", \"Monika\", \"Alan\", \"Jhon\"]\n",
    "result = list(zip(roll, name))\n",
    "\n",
    "print(result)\n"
   ]
  },
  {
   "cell_type": "code",
   "execution_count": null,
   "id": "80b98ad3-e5c3-40b0-bf2c-d5a16ab642c4",
   "metadata": {},
   "outputs": [],
   "source": [
    "result1 = result\n",
    "result2 = list(zip(*re))"
   ]
  }
 ],
 "metadata": {
  "kernelspec": {
   "display_name": "Python [conda env:base] *",
   "language": "python",
   "name": "conda-base-py"
  },
  "language_info": {
   "codemirror_mode": {
    "name": "ipython",
    "version": 3
   },
   "file_extension": ".py",
   "mimetype": "text/x-python",
   "name": "python",
   "nbconvert_exporter": "python",
   "pygments_lexer": "ipython3",
   "version": "3.12.7"
  }
 },
 "nbformat": 4,
 "nbformat_minor": 5
}

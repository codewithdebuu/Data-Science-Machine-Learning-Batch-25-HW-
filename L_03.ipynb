{
 "cells": [
  {
   "cell_type": "markdown",
   "metadata": {},
   "source": [
    "# L_03"
   ]
  },
  {
   "cell_type": "markdown",
   "metadata": {},
   "source": [
    "## Math"
   ]
  },
  {
   "cell_type": "code",
   "execution_count": 3,
   "metadata": {},
   "outputs": [
    {
     "name": "stdin",
     "output_type": "stream",
     "text": [
      "Enter number:  12345\n"
     ]
    },
    {
     "name": "stdout",
     "output_type": "stream",
     "text": [
      "1+2+3+4+5 = 15\n"
     ]
    }
   ],
   "source": [
    "inputs = (input(\"Enter number: \"))\n",
    "total = 0\n",
    "for num in inputs:\n",
    "\n",
    "    total += int(num)\n",
    "print(\"+\".join(inputs), \"=\", total)"
   ]
  },
  {
   "cell_type": "code",
   "execution_count": 5,
   "metadata": {},
   "outputs": [
    {
     "name": "stdin",
     "output_type": "stream",
     "text": [
      "W:  123\n"
     ]
    },
    {
     "name": "stdout",
     "output_type": "stream",
     "text": [
      "Input received: 123\n",
      "Adding: 1 Total now: 1\n",
      "Adding: 2 Total now: 3\n",
      "Adding: 3 Total now: 6\n",
      "Final total: 6\n",
      "1 + 2 + 3 = 6\n"
     ]
    }
   ],
   "source": [
    "inputs = input(\"W: \")\n",
    "print(\"Input received:\", inputs)\n",
    "\n",
    "total = 0\n",
    "for num in inputs:\n",
    "    for digit in num:\n",
    "        if digit.isdigit():  # Check if character is a digit\n",
    "            total += int(digit)\n",
    "            print(\"Adding:\", digit, \"Total now:\", total)\n",
    "\n",
    "print(\"Final total:\", total)\n",
    "print(\" + \".join([digit for digit in inputs if digit.isdigit()]), \"=\", total)\n"
   ]
  },
  {
   "cell_type": "markdown",
   "metadata": {},
   "source": [
    "## List"
   ]
  },
  {
   "cell_type": "code",
   "execution_count": 13,
   "metadata": {},
   "outputs": [
    {
     "name": "stdout",
     "output_type": "stream",
     "text": [
      "['Apple', 'Banana', 'Cherry', 'Ford', 'BMW', 'Volvo']\n"
     ]
    }
   ],
   "source": [
    "fruits = [\"Apple\",\"Banana\", \"Cherry\"]\n",
    "cars = [\"Ford\", \"BMW\", \"Volvo\"]\n",
    "fruits.extend(cars) # Add list togather.\n",
    "print(fruits)"
   ]
  },
  {
   "cell_type": "markdown",
   "metadata": {},
   "source": [
    "### range Function"
   ]
  },
  {
   "cell_type": "code",
   "execution_count": 11,
   "metadata": {},
   "outputs": [
    {
     "name": "stdout",
     "output_type": "stream",
     "text": [
      "[range(10, 21)]\n"
     ]
    }
   ],
   "source": [
    "My_list = [range(10, 21, 1)]\n",
    "print(My_list)\n"
   ]
  },
  {
   "cell_type": "code",
   "execution_count": 11,
   "metadata": {},
   "outputs": [
    {
     "name": "stdout",
     "output_type": "stream",
     "text": [
      "[10, 11, 12, 13, 14, 15, 16, 17, 18, 19, 20]\n"
     ]
    }
   ],
   "source": [
    "My_list = [*range(10, 21, 1)]\n",
    "print(My_list)\n"
   ]
  },
  {
   "cell_type": "code",
   "execution_count": 4,
   "metadata": {},
   "outputs": [
    {
     "name": "stdout",
     "output_type": "stream",
     "text": [
      "[10, 11, 12, 13, 14, 15, 16, 17, 18, 19]\n"
     ]
    }
   ],
   "source": [
    "my_list = []\n",
    "my_list.extend(range(10,20))\n",
    "print(my_list)"
   ]
  },
  {
   "cell_type": "markdown",
   "metadata": {},
   "source": [
    "## Tuple"
   ]
  },
  {
   "cell_type": "markdown",
   "metadata": {},
   "source": [
    "### Unpacking / Comparing"
   ]
  },
  {
   "cell_type": "code",
   "execution_count": 16,
   "metadata": {},
   "outputs": [
    {
     "name": "stdout",
     "output_type": "stream",
     "text": [
      "apple\n",
      "Cherry\n"
     ]
    }
   ],
   "source": [
    " fruits = (\"apple\", \"banana\", \"Cherry\")\n",
    "(green,yellow,red) = fruits\n",
    "print(green)\n",
    "print(red)"
   ]
  },
  {
   "cell_type": "code",
   "execution_count": 18,
   "metadata": {
    "scrolled": true
   },
   "outputs": [
    {
     "name": "stdout",
     "output_type": "stream",
     "text": [
      "apple\n",
      "['Cherry']\n"
     ]
    }
   ],
   "source": [
    "fruits = (\"apple\", \"banana\", \"Cherry\")\n",
    "(green,yellow,*red) = fruits\n",
    "print(green)\n",
    "print(red)"
   ]
  },
  {
   "cell_type": "markdown",
   "metadata": {},
   "source": [
    "## Set"
   ]
  },
  {
   "cell_type": "code",
   "execution_count": 20,
   "metadata": {},
   "outputs": [
    {
     "name": "stdout",
     "output_type": "stream",
     "text": [
      "{1, 2, 3}\n",
      "<class 'set'>\n"
     ]
    }
   ],
   "source": [
    "my_set = {1,2,3}\n",
    "print(my_set)\n",
    "print(type(my_set))\n",
    "\n"
   ]
  },
  {
   "cell_type": "code",
   "execution_count": 22,
   "metadata": {},
   "outputs": [
    {
     "name": "stdout",
     "output_type": "stream",
     "text": [
      "{1.4, 5, (4, 5, 6), 'hello'}\n"
     ]
    }
   ],
   "source": [
    "set2 = {1.4,5,\"hello\",(4,5,6)}\n",
    "print(set2)\n",
    "\n",
    "\n"
   ]
  },
  {
   "cell_type": "code",
   "execution_count": 24,
   "metadata": {},
   "outputs": [
    {
     "name": "stdout",
     "output_type": "stream",
     "text": [
      "{1, 2, 3, 4, 5, 6, 7}\n",
      "{4, 5}\n",
      "{1, 2, 3}\n",
      "{6, 7}\n"
     ]
    }
   ],
   "source": [
    "num1 = {1,2,3,4,5}\n",
    "num2 = {4,5,6,7}\n",
    "\n",
    "\n",
    "print(num1 | num2) # Union\n",
    "print(num1 & num2) # Intersection\n",
    "print(num1 - num2) # Difference\n",
    "print(num2 - num1) # Difference\n"
   ]
  },
  {
   "cell_type": "markdown",
   "metadata": {},
   "source": [
    "## Type Conversion"
   ]
  },
  {
   "cell_type": "code",
   "execution_count": 54,
   "metadata": {},
   "outputs": [
    {
     "name": "stdout",
     "output_type": "stream",
     "text": [
      "{1.4, 5, (4, 5, 6), 'hello'}\n"
     ]
    }
   ],
   "source": [
    "set3 = set([1.4,5,\"hello\",(4,5,6)])  # List to set\n",
    "\n",
    "print(set3)"
   ]
  },
  {
   "cell_type": "markdown",
   "metadata": {},
   "source": [
    "## DICTIONARY\n",
    "\n"
   ]
  },
  {
   "cell_type": "code",
   "execution_count": 28,
   "metadata": {},
   "outputs": [
    {
     "name": "stdout",
     "output_type": "stream",
     "text": [
      "{'brand': 'Ford', 'electric': False, 'year': 1997, 'colors': ['red', 'white', 'blue']}\n"
     ]
    }
   ],
   "source": [
    "dict1 = {\n",
    "    \n",
    "    \"brand\":\"Ford\",\n",
    "    \"electric\":False,\n",
    "    \"year\": 1997,\n",
    "    \"colors\":[\"red\",\"white\",\"blue\"]\n",
    "}\n",
    "print(dict1)"
   ]
  },
  {
   "cell_type": "markdown",
   "metadata": {},
   "source": [
    "### Using .get() to Avoid Errors"
   ]
  },
  {
   "cell_type": "code",
   "execution_count": 31,
   "metadata": {},
   "outputs": [
    {
     "name": "stdout",
     "output_type": "stream",
     "text": [
      "invalid key\n"
     ]
    }
   ],
   "source": [
    "print(dict1.get(\"name\",\"invalid key\"))"
   ]
  },
  {
   "cell_type": "code",
   "execution_count": null,
   "metadata": {},
   "outputs": [],
   "source": []
  },
  {
   "cell_type": "code",
   "execution_count": null,
   "metadata": {},
   "outputs": [],
   "source": []
  }
 ],
 "metadata": {
  "kernelspec": {
   "display_name": "Python [conda env:base] *",
   "language": "python",
   "name": "conda-base-py"
  },
  "language_info": {
   "codemirror_mode": {
    "name": "ipython",
    "version": 3
   },
   "file_extension": ".py",
   "mimetype": "text/x-python",
   "name": "python",
   "nbconvert_exporter": "python",
   "pygments_lexer": "ipython3",
   "version": "3.12.7"
  }
 },
 "nbformat": 4,
 "nbformat_minor": 4
}

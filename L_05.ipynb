{
 "cells": [
  {
   "cell_type": "code",
   "execution_count": 8,
   "id": "5ac5bcd2-d999-491b-97e0-67c2a91286e0",
   "metadata": {},
   "outputs": [
    {
     "name": "stdout",
     "output_type": "stream",
     "text": [
      "Student name: Debu & roll: 1.\n"
     ]
    }
   ],
   "source": [
    "class student(object):\n",
    "    def set_value(self,name,roll):\n",
    "        self.name = name\n",
    "        self.roll = roll\n",
    "    def show_info(self):\n",
    "        print(f\"Student name: {self.name} & roll: {self.roll}.\")\n",
    "\n",
    "s1 = student()\n",
    "s1.set_value(\"Debu\",1)\n",
    "s1.show_info()"
   ]
  },
  {
   "cell_type": "code",
   "execution_count": 10,
   "id": "2658e8d1-f24b-454f-a365-075750a8c8cc",
   "metadata": {},
   "outputs": [
    {
     "name": "stdout",
     "output_type": "stream",
     "text": [
      "Updating data...\n",
      "Student name is Debu & roll is 10.\n"
     ]
    }
   ],
   "source": [
    "class student(object):\n",
    "    def __init__(self,name,roll): \n",
    "        self.name = name\n",
    "        self.roll = roll\n",
    "        print(\"Updating data...\")\n",
    "        \n",
    "    def show_data(self):\n",
    "        print(f\"Student name is {self.name} & roll is {self.roll}.\")\n",
    "\n",
    "s1 = student(\"Debu\", 10)\n",
    "s1.show_data()\n",
    "        "
   ]
  },
  {
   "cell_type": "code",
   "execution_count": 49,
   "id": "50df89b7-1371-4476-8535-271e722fec45",
   "metadata": {},
   "outputs": [
    {
     "name": "stdout",
     "output_type": "stream",
     "text": [
      "\n",
      "Do you want to Enter new data?\n",
      "1 = Yes   | 0 = No   | 2 = Exit\n"
     ]
    },
    {
     "name": "stdin",
     "output_type": "stream",
     "text": [
      "Enter number:  1\n",
      "Enter Student Name:  Alax\n",
      "Enter Roll Number:  25\n"
     ]
    },
    {
     "name": "stdout",
     "output_type": "stream",
     "text": [
      "Data updated.\n",
      "Student name: Alax & roll: 25.\n",
      "\n",
      "Do you want to Enter new data?\n",
      "1 = Yes   | 0 = No   | 2 = Exit\n"
     ]
    },
    {
     "name": "stdin",
     "output_type": "stream",
     "text": [
      "Enter number:  0\n"
     ]
    },
    {
     "name": "stdout",
     "output_type": "stream",
     "text": [
      "Skipping data entry this time.\n",
      "\n",
      "Do you want to Enter new data?\n",
      "1 = Yes   | 0 = No   | 2 = Exit\n"
     ]
    },
    {
     "name": "stdin",
     "output_type": "stream",
     "text": [
      "Enter number:  2\n"
     ]
    },
    {
     "name": "stdout",
     "output_type": "stream",
     "text": [
      "Exiting the program.\n"
     ]
    }
   ],
   "source": [
    "class Student(object):\n",
    "    def __init__(self, name, roll):\n",
    "        self.name = name\n",
    "        self.roll = roll\n",
    "        print(\"Data updated.\")\n",
    "\n",
    "    def show_data(self): \n",
    "        print(f\"Student name: {self.name} & roll: {self.roll}.\")\n",
    "\n",
    "while True:\n",
    "    print(\"\\nDo you want to Enter new data?\")\n",
    "    print(\"1 = Yes   | 0 = No   | 2 = Exit\")\n",
    "    \n",
    "    try:\n",
    "        decision = int(input(\"Enter number: \"))\n",
    "    except ValueError:\n",
    "        print(\"Please enter a valid number.\")\n",
    "        continue\n",
    "\n",
    "    if decision == 1:\n",
    "        new_name = input(\"Enter Student Name: \")\n",
    "        try:\n",
    "            new_roll = int(input(\"Enter Roll Number: \"))\n",
    "        except ValueError:\n",
    "            print(\"Roll number must be an integer.\")\n",
    "            continue\n",
    "        stu_info = Student(new_name, new_roll)\n",
    "        stu_info.show_data()\n",
    "\n",
    "    elif decision == 0:\n",
    "        print(\"Skipping data entry this time.\")\n",
    "        continue\n",
    "\n",
    "    elif decision == 2:\n",
    "        print(\"Exiting the program.\")\n",
    "        break\n",
    "\n",
    "    else:\n",
    "        print(\"Not a valid input. Try again.\")\n"
   ]
  },
  {
   "cell_type": "markdown",
   "id": "4ef2315f-b57b-41ca-87cf-205ceda1707e",
   "metadata": {},
   "source": [
    "## Pass Statement "
   ]
  },
  {
   "cell_type": "code",
   "execution_count": 51,
   "id": "d20206a3-0d9e-4e50-86e3-be5e181e5725",
   "metadata": {},
   "outputs": [],
   "source": [
    "class person:\n",
    "    pass\n"
   ]
  },
  {
   "cell_type": "code",
   "execution_count": 53,
   "id": "85dbd8dd-011d-4a48-a5f0-aa6d20ecef62",
   "metadata": {},
   "outputs": [],
   "source": [
    "def myFunction():\n",
    "    pass"
   ]
  },
  {
   "cell_type": "markdown",
   "id": "055ce220-9d3b-4456-90b3-9f042b143648",
   "metadata": {},
   "source": [
    "## Inheritance"
   ]
  },
  {
   "cell_type": "markdown",
   "id": "fb35f0ff-b48d-4cce-bf7e-c30ebb263f24",
   "metadata": {},
   "source": [
    "### Parent Class"
   ]
  },
  {
   "cell_type": "code",
   "execution_count": 59,
   "id": "484c696a-bd9e-44a2-bd2d-124979b91c88",
   "metadata": {},
   "outputs": [
    {
     "name": "stdin",
     "output_type": "stream",
     "text": [
      "Entre your frist name: Fahim\n",
      "Enter your last name: Mahmud\n"
     ]
    },
    {
     "name": "stdout",
     "output_type": "stream",
     "text": [
      "\n",
      "Your full name is Fahim Mahmud.\n"
     ]
    }
   ],
   "source": [
    "class person(object):\n",
    "    def __init__(self,f_name,l_name):\n",
    "        self.f_name = f_name\n",
    "        self.l_name = l_name\n",
    "    def show_info(self):\n",
    "        print(f\"\\nYour full name is {self.f_name} {self.l_name}.\")\n",
    "\n",
    "F_name = input(\"Entre your frist name:\")\n",
    "L_name = input(\"Enter your last name:\")\n",
    "\n",
    "data = persion(F_name,L_name)\n",
    "data.show_info()"
   ]
  },
  {
   "cell_type": "markdown",
   "id": "210cd375-5ff9-4370-b638-b7c019ad8360",
   "metadata": {},
   "source": [
    "### Child Class"
   ]
  },
  {
   "cell_type": "code",
   "execution_count": 61,
   "id": "9f4fcddb-47a4-45f0-8ba8-b349799654a4",
   "metadata": {},
   "outputs": [
    {
     "name": "stdout",
     "output_type": "stream",
     "text": [
      "\n",
      "Your full name is Debu debuu.\n",
      "Student ID:25 & Subject:Science.\n"
     ]
    }
   ],
   "source": [
    "class person(object):\n",
    "    def __init__(self,f_name,l_name):\n",
    "        self.f_name = f_name\n",
    "        self.l_name = l_name\n",
    "        \n",
    "    def show_info(self):\n",
    "        print(f\"\\nYour full name is {self.f_name} {self.l_name}.\")\n",
    "        \n",
    "class stu_info(person): \n",
    "    def __init__(self,id,subject): \n",
    "        self.id = id\n",
    "        self.subject = subject\n",
    "\n",
    "data1 = person(\"Debu\",\"debuu\")\n",
    "data1.show_info()\n",
    "\n",
    "data2 = stu_info(25,\"Science\")\n",
    "print(f\"Student ID:{data2.id} & Subject:{data2.subject}.\")\n",
    "\n",
    "    \n",
    "            \n",
    "            \n",
    "    "
   ]
  },
  {
   "cell_type": "markdown",
   "id": "b61fc3a1-8cda-4beb-9c42-267cc028ce35",
   "metadata": {},
   "source": [
    "## Single Inheritance"
   ]
  },
  {
   "cell_type": "code",
   "execution_count": 84,
   "id": "f0b5a2fc-9976-40d5-999e-13ccdc4593b5",
   "metadata": {},
   "outputs": [
    {
     "data": {
      "image/png": "[encoded data removed]",
      "text/plain": [
       "<IPython.core.display.Image object>"
      ]
     },
     "metadata": {},
     "output_type": "display_data"
    }
   ],
   "source": [
    "from IPython.display import Image, display\n",
    "display(Image(r\"H:\\Programming\\Files\\DS & ML\\L_5_01.png\"))"
   ]
  },
  {
   "cell_type": "code",
   "execution_count": 64,
   "id": "9b02821b-2e93-456e-8d6a-0d7a94722148",
   "metadata": {},
   "outputs": [
    {
     "name": "stdout",
     "output_type": "stream",
     "text": [
      "This is class A.\n",
      "This is class B.\n"
     ]
    }
   ],
   "source": [
    "class A:\n",
    "    def display1(self): \n",
    "        print(\"This is class A.\")\n",
    "\n",
    "class B(A): \n",
    "    def display2(self): \n",
    "        print(\"This is class B.\")\n",
    "\n",
    "obj = B()\n",
    "obj.display1()\n",
    "obj.display2()"
   ]
  },
  {
   "cell_type": "markdown",
   "id": "3706f018-5a3a-4815-9b6c-a2a210adfd2f",
   "metadata": {},
   "source": [
    "### Static Method"
   ]
  },
  {
   "cell_type": "code",
   "execution_count": 75,
   "id": "ab881bf2-09ab-4a17-8569-8f61b05348ca",
   "metadata": {},
   "outputs": [
    {
     "name": "stdout",
     "output_type": "stream",
     "text": [
      "This is A function.\n",
      "This is B function.\n"
     ]
    }
   ],
   "source": [
    "class Abc(): \n",
    "    @staticmethod\n",
    "    def A(): \n",
    "        print(\"This is A function.\")\n",
    "\n",
    "    @staticmethod\n",
    "    def B(): \n",
    "        print(\"This is B function.\")\n",
    "\n",
    "obj = Abc()\n",
    "obj.A()\n",
    "obj.B()"
   ]
  },
  {
   "cell_type": "markdown",
   "id": "f9d0b310-287f-4bab-8369-486bbd7a6fa8",
   "metadata": {},
   "source": [
    "## Multilevel Inheritance"
   ]
  },
  {
   "cell_type": "code",
   "execution_count": 86,
   "id": "548bc174-d7db-4c10-a307-a406c4e96cd5",
   "metadata": {},
   "outputs": [
    {
     "data": {
      "image/png": "[encoded data removed]",
      "text/plain": [
       "<IPython.core.display.Image object>"
      ]
     },
     "metadata": {},
     "output_type": "display_data"
    }
   ],
   "source": [
    "display(Image(r\"H:\\Programming\\Files\\DS & ML\\L_5_02.png\"))"
   ]
  },
  {
   "cell_type": "code",
   "execution_count": 82,
   "id": "990d77f0-5c9f-49c8-aaad-df2327915971",
   "metadata": {},
   "outputs": [
    {
     "name": "stdout",
     "output_type": "stream",
     "text": [
      "This is class A.\n",
      "This is class B.\n",
      "This is class C.\n"
     ]
    }
   ],
   "source": [
    "class A:\n",
    "    def display1(self): \n",
    "        print(\"This is class A.\")\n",
    "\n",
    "class B(A): \n",
    "    def display2(self): \n",
    "        print(\"This is class B.\")\n",
    "\n",
    "class c(B): \n",
    "    def display3(self): \n",
    "        print(\"This is class C.\")\n",
    "\n",
    "obj = c()\n",
    "obj.display1()\n",
    "obj.display2()\n",
    "obj.display3()"
   ]
  },
  {
   "cell_type": "markdown",
   "id": "a62cc86a-354e-4e05-9dc8-d18794b999db",
   "metadata": {},
   "source": [
    "## Multiple Inheritance"
   ]
  },
  {
   "cell_type": "code",
   "execution_count": 106,
   "id": "a568ee8c-f5d4-42e6-afff-d911e4c67bd8",
   "metadata": {},
   "outputs": [
    {
     "data": {
      "image/png": "[encoded data removed]",
      "text/plain": [
       "<IPython.core.display.Image object>"
      ]
     },
     "metadata": {},
     "output_type": "display_data"
    }
   ],
   "source": [
    "display(Image(r\"H:\\Programming\\Files\\DS & ML\\L_5_03.png\"))"
   ]
  },
  {
   "cell_type": "code",
   "execution_count": 104,
   "id": "283c57c9-cdfb-4c75-aef6-61ac2ac61c0f",
   "metadata": {},
   "outputs": [
    {
     "name": "stdout",
     "output_type": "stream",
     "text": [
      "This is class A.\n",
      "This is calss B.\n",
      "This is class C.\n"
     ]
    }
   ],
   "source": [
    "class A: \n",
    "    def display1(self): \n",
    "        print(\"This is class A.\")\n",
    "\n",
    "class B: \n",
    "    def display2(self): \n",
    "        print(\"This is calss B.\")\n",
    "\n",
    "class C(A,B):\n",
    "    def display3(self): \n",
    "        print(\"This is class C.\")\n",
    "\n",
    "obj = C()\n",
    "obj.display1()\n",
    "obj.display2()\n",
    "obj.display3()\n",
    "\n",
    "\n",
    "\n",
    "\n"
   ]
  },
  {
   "cell_type": "markdown",
   "id": "e4e2aa5c-14f2-4214-aac9-940fe3c69c09",
   "metadata": {},
   "source": [
    "## Hierarchical Inheritance"
   ]
  },
  {
   "cell_type": "code",
   "execution_count": 91,
   "id": "2eb8adf8-c665-467f-90c7-dbf469625b32",
   "metadata": {},
   "outputs": [
    {
     "data": {
      "image/png": "[encoded data removed]",
      "text/plain": [
       "<IPython.core.display.Image object>"
      ]
     },
     "metadata": {},
     "output_type": "display_data"
    }
   ],
   "source": [
    "display(Image(r\"H:\\Programming\\Files\\DS & ML\\L_5_04.png\"))"
   ]
  },
  {
   "cell_type": "code",
   "execution_count": 108,
   "id": "aeb2e457-a5d9-43a3-9147-80ec64d1cb0e",
   "metadata": {},
   "outputs": [
    {
     "name": "stdout",
     "output_type": "stream",
     "text": [
      "This function is in parent class.\n",
      "This function is in child 1.\n",
      "This function is in parent class.\n",
      "This function is in child 2.\n"
     ]
    }
   ],
   "source": [
    "class Parent: # Base class\n",
    "    def func1(self):\n",
    "        print(\"This function is in parent class.\")\n",
    "class Child1(Parent): # Derived class1\n",
    "    def func2(self):\n",
    "        print(\"This function is in child 1.\")\n",
    "class Child2(Parent): # Derivied class2\n",
    "    def func3(self):\n",
    "        print(\"This function is in child 2.\")\n",
    "\n",
    "# Driver's code\n",
    "object1 = Child1()\n",
    "object2 = Child2()\n",
    "object1.func1()\n",
    "object1.func2()\n",
    "object2.func1()\n",
    "object2.func3()"
   ]
  },
  {
   "cell_type": "code",
   "execution_count": null,
   "id": "84f24f41-2d9b-4036-9418-02c79479096c",
   "metadata": {},
   "outputs": [],
   "source": []
  }
 ],
 "metadata": {
  "kernelspec": {
   "display_name": "Python [conda env:base] *",
   "language": "python",
   "name": "conda-base-py"
  },
  "language_info": {
   "codemirror_mode": {
    "name": "ipython",
    "version": 3
   },
   "file_extension": ".py",
   "mimetype": "text/x-python",
   "name": "python",
   "nbconvert_exporter": "python",
   "pygments_lexer": "ipython3",
   "version": "3.12.7"
  }
 },
 "nbformat": 4,
 "nbformat_minor": 5
}
